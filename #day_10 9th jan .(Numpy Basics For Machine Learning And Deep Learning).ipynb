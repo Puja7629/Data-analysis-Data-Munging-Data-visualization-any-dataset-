{
 "cells": [
  {
   "cell_type": "code",
   "execution_count": 1,
   "metadata": {},
   "outputs": [],
   "source": [
    "# This Notebook Contains All Basic Numpy Operations\n",
    "import numpy as np"
   ]
  },
  {
   "cell_type": "code",
   "execution_count": 2,
   "metadata": {},
   "outputs": [],
   "source": [
    "# array in numpy\n",
    "arr_1 = np.array([1,2,3,4,5,6])"
   ]
  },
  {
   "cell_type": "code",
   "execution_count": 3,
   "metadata": {},
   "outputs": [
    {
     "name": "stdout",
     "output_type": "stream",
     "text": [
      "(6,)\n",
      "<class 'numpy.ndarray'>\n"
     ]
    }
   ],
   "source": [
    "print(arr_1.shape)\n",
    "print(type(arr_1))"
   ]
  },
  {
   "cell_type": "code",
   "execution_count": 4,
   "metadata": {},
   "outputs": [],
   "source": [
    "# difference between lists and numpy array\n",
    "list_1 = [1,2,3,4,5,6]"
   ]
  },
  {
   "cell_type": "code",
   "execution_count": 5,
   "metadata": {},
   "outputs": [
    {
     "name": "stdout",
     "output_type": "stream",
     "text": [
      "<class 'list'>\n",
      "<class 'numpy.ndarray'>\n"
     ]
    }
   ],
   "source": [
    "print(type(list_1))\n",
    "print(type(arr_1))"
   ]
  },
  {
   "cell_type": "code",
   "execution_count": 6,
   "metadata": {},
   "outputs": [
    {
     "name": "stdout",
     "output_type": "stream",
     "text": [
      "[1 2 3 4 5 6]\n",
      "[1, 2, 3, 4, 5, 6]\n"
     ]
    }
   ],
   "source": [
    "print(arr_1)\n",
    "print(list_1)"
   ]
  },
  {
   "cell_type": "markdown",
   "metadata": {},
   "source": [
    "+ Array Always Contains Same Kind Of Data Type\n",
    "+ Array Always able to perform matrix operation\n",
    "+ In deep learning these array reprsents matrix for matrix mainuplation\n",
    "+ Array reprsents something like this [1 2 3 4 5 6 7]"
   ]
  },
  {
   "cell_type": "code",
   "execution_count": 7,
   "metadata": {},
   "outputs": [],
   "source": [
    "# matrix operations\n",
    "arr_1 = np.array([2,4,8])\n",
    "arr_2 = np.array([3,9,27])"
   ]
  },
  {
   "cell_type": "code",
   "execution_count": 8,
   "metadata": {},
   "outputs": [
    {
     "name": "stdout",
     "output_type": "stream",
     "text": [
      "[ 5 13 35]\n"
     ]
    }
   ],
   "source": [
    "## Add\n",
    "print(arr_1+arr_2)"
   ]
  },
  {
   "cell_type": "code",
   "execution_count": 9,
   "metadata": {},
   "outputs": [
    {
     "name": "stdout",
     "output_type": "stream",
     "text": [
      "[ 1  5 19]\n"
     ]
    }
   ],
   "source": [
    "## subtract\n",
    "print(arr_2-arr_1)"
   ]
  },
  {
   "cell_type": "code",
   "execution_count": 14,
   "metadata": {},
   "outputs": [
    {
     "name": "stdout",
     "output_type": "stream",
     "text": [
      "[  6  36 216]\n",
      "[0.66666667 0.44444444 0.2962963 ]\n",
      "[1 2 3]\n",
      "[1 1 3]\n"
     ]
    }
   ],
   "source": [
    "## multiplication and others\n",
    "print(arr_1*arr_2)\n",
    "\n",
    "print(arr_1/arr_2)\n",
    "\n",
    "print(arr_2//arr_1)\n",
    "\n",
    "print(arr_2%arr_1)"
   ]
  },
  {
   "cell_type": "code",
   "execution_count": 15,
   "metadata": {},
   "outputs": [
    {
     "data": {
      "text/plain": [
       "array([ True,  True,  True])"
      ]
     },
     "execution_count": 15,
     "metadata": {},
     "output_type": "execute_result"
    }
   ],
   "source": [
    "# Array as true false \n",
    "arr_1>0"
   ]
  },
  {
   "cell_type": "code",
   "execution_count": 18,
   "metadata": {},
   "outputs": [
    {
     "data": {
      "text/plain": [
       "array([4, 8])"
      ]
     },
     "execution_count": 18,
     "metadata": {},
     "output_type": "execute_result"
    }
   ],
   "source": [
    "# Print those elements of arr_1 which are greater then 2\n",
    "arr_1[arr_1>2]"
   ]
  },
  {
   "cell_type": "code",
   "execution_count": 19,
   "metadata": {},
   "outputs": [
    {
     "data": {
      "text/plain": [
       "array([ 3,  9, 27])"
      ]
     },
     "execution_count": 19,
     "metadata": {},
     "output_type": "execute_result"
    }
   ],
   "source": [
    "# Print those elements of arr_2 which are greater then elements of arr_1\n",
    "arr_2[arr_2>arr_1]"
   ]
  },
  {
   "cell_type": "code",
   "execution_count": 28,
   "metadata": {},
   "outputs": [
    {
     "data": {
      "text/plain": [
       "array([ 9, 27])"
      ]
     },
     "execution_count": 28,
     "metadata": {},
     "output_type": "execute_result"
    }
   ],
   "source": [
    "# Print those elements of arr_2 which are devisible by 9\n",
    "arr_2[arr_2%9==0]"
   ]
  },
  {
   "cell_type": "code",
   "execution_count": 32,
   "metadata": {},
   "outputs": [],
   "source": [
    "# Multidimensional Array\n",
    "muArr_1 = np.array([[1,2,3],[4,5,6],[7,8,9]],dtype='int64')\n",
    "muArr_2 = np.array([[11,12,13],[14,15,16],[17,18,19]],dtype='int16')"
   ]
  },
  {
   "cell_type": "code",
   "execution_count": 38,
   "metadata": {},
   "outputs": [
    {
     "name": "stdout",
     "output_type": "stream",
     "text": [
      "(3, 3)\n",
      "(3, 3)\n",
      "<class 'numpy.ndarray'>\n",
      "<class 'numpy.ndarray'>\n"
     ]
    }
   ],
   "source": [
    "# Matrix Operation And Array Analysis\n",
    "print(muArr_1.shape)\n",
    "\n",
    "print(muArr_2.shape)\n",
    "\n",
    "print(type(muArr_1))\n",
    "\n",
    "print(type(muArr_2))"
   ]
  },
  {
   "cell_type": "code",
   "execution_count": 37,
   "metadata": {},
   "outputs": [
    {
     "name": "stdout",
     "output_type": "stream",
     "text": [
      "[[12 14 16]\n",
      " [18 20 22]\n",
      " [24 26 28]]\n",
      "[[-10 -10 -10]\n",
      " [-10 -10 -10]\n",
      " [-10 -10 -10]]\n",
      "[[ 11  24  39]\n",
      " [ 56  75  96]\n",
      " [119 144 171]]\n",
      "[[0.09090909 0.16666667 0.23076923]\n",
      " [0.28571429 0.33333333 0.375     ]\n",
      " [0.41176471 0.44444444 0.47368421]]\n"
     ]
    }
   ],
   "source": [
    "# Add\n",
    "print(muArr_1+muArr_2)\n",
    "\n",
    "# Subtract\n",
    "print(muArr_1-muArr_2)\n",
    "\n",
    "# Multiply\n",
    "print(muArr_1*muArr_2)\n",
    "\n",
    "# Devide\n",
    "print(muArr_1/muArr_2)"
   ]
  },
  {
   "cell_type": "code",
   "execution_count": 39,
   "metadata": {},
   "outputs": [
    {
     "name": "stdout",
     "output_type": "stream",
     "text": [
      "[2 4]\n",
      "[ 9 27]\n",
      "[[4 5 6]\n",
      " [7 8 9]]\n",
      "[[11 12 13]\n",
      " [14 15 16]]\n"
     ]
    }
   ],
   "source": [
    "# Array Slicing And Indexing\n",
    "\n",
    "# Access arr_1 first two elements\n",
    "print(arr_1[:2])\n",
    "\n",
    "# Access arr_2 last two elements\n",
    "print(arr_2[1:])\n",
    "\n",
    "# Access muArr_1 last two rows\n",
    "print(muArr_1[1:])\n",
    "\n",
    "# Access muArr_2 first two rows\n",
    "print(muArr_2[:2])"
   ]
  },
  {
   "cell_type": "code",
   "execution_count": 43,
   "metadata": {},
   "outputs": [
    {
     "name": "stdout",
     "output_type": "stream",
     "text": [
      "5\n",
      "5\n",
      "18\n",
      "18\n"
     ]
    }
   ],
   "source": [
    "# Write Slicing expression to print 5 from muArr_1\n",
    "print(muArr_1[1][1])\n",
    "\n",
    "print(muArr_1[1,1])\n",
    "\n",
    "# Write Slicing expression to print 18 from muArr_2\n",
    "print(muArr_2[2][1])\n",
    "\n",
    "print(muArr_2[2,1])"
   ]
  },
  {
   "cell_type": "code",
   "execution_count": 50,
   "metadata": {},
   "outputs": [
    {
     "name": "stdout",
     "output_type": "stream",
     "text": [
      "[2 5 8]\n",
      "[14 15 16]\n"
     ]
    }
   ],
   "source": [
    "# Print 2nd column from muArr_1\n",
    "print(muArr_1[:,1])\n",
    "\n",
    "# Print 1st column from muArr_2\n",
    "print(muArr_2[:][1])"
   ]
  },
  {
   "cell_type": "code",
   "execution_count": 54,
   "metadata": {},
   "outputs": [],
   "source": [
    "# Array Reassignment\n",
    "arr_1[1] = 0\n",
    "arr_2[2] = 19"
   ]
  },
  {
   "cell_type": "code",
   "execution_count": 55,
   "metadata": {},
   "outputs": [
    {
     "name": "stdout",
     "output_type": "stream",
     "text": [
      "[2 0 8]\n",
      "[ 3  9 19]\n"
     ]
    }
   ],
   "source": [
    "print(arr_1)\n",
    "print(arr_2)"
   ]
  },
  {
   "cell_type": "code",
   "execution_count": 58,
   "metadata": {},
   "outputs": [
    {
     "name": "stdout",
     "output_type": "stream",
     "text": [
      "[10 12 14 16 18 20]\n",
      "<class 'numpy.ndarray'>\n"
     ]
    }
   ],
   "source": [
    "# Numpy Built-in Fxns And Operations\n",
    "\n",
    "# Range Function in array\n",
    "arr_3 = np.arange(10,21,2)\n",
    "print(arr_3)\n",
    "print(type(arr_3))"
   ]
  },
  {
   "cell_type": "code",
   "execution_count": 3,
   "metadata": {},
   "outputs": [
    {
     "name": "stdout",
     "output_type": "stream",
     "text": [
      "[[1. 0. 0. 0. 0. 0.]\n",
      " [0. 1. 0. 0. 0. 0.]\n",
      " [0. 0. 1. 0. 0. 0.]\n",
      " [0. 0. 0. 1. 0. 0.]\n",
      " [0. 0. 0. 0. 1. 0.]\n",
      " [0. 0. 0. 0. 0. 1.]]\n"
     ]
    }
   ],
   "source": [
    "# Print Identity matrix of order 6*6\n",
    "\n",
    "id_matrix=np.identity(6)\n",
    "print(id_matrix)"
   ]
  },
  {
   "cell_type": "code",
   "execution_count": 6,
   "metadata": {},
   "outputs": [
    {
     "name": "stdout",
     "output_type": "stream",
     "text": [
      "[[0. 0. 0.]\n",
      " [0. 0. 0.]]\n"
     ]
    }
   ],
   "source": [
    "# Create an array of all zeros\n",
    "\n",
    "zero_arr = np.zeros([2,3])\n",
    "print(zero_arr)"
   ]
  },
  {
   "cell_type": "code",
   "execution_count": 8,
   "metadata": {},
   "outputs": [
    {
     "name": "stdout",
     "output_type": "stream",
     "text": [
      "[[0. 0.]\n",
      " [0. 0.]\n",
      " [0. 0.]]\n"
     ]
    }
   ],
   "source": [
    "# Array Resizing\n",
    "\n",
    "re_arr = np.resize(zero_arr,[3,2])\n",
    "print(re_arr)"
   ]
  },
  {
   "cell_type": "code",
   "execution_count": 10,
   "metadata": {},
   "outputs": [
    {
     "name": "stdout",
     "output_type": "stream",
     "text": [
      "[[0. 0. 0. 0. 0. 0.]]\n"
     ]
    }
   ],
   "source": [
    "# Array Reshaping\n",
    "\n",
    "reshape_arr = np.reshape(zero_arr,[1,6])\n",
    "print(reshape_arr)"
   ]
  },
  {
   "cell_type": "code",
   "execution_count": 11,
   "metadata": {},
   "outputs": [
    {
     "name": "stdout",
     "output_type": "stream",
     "text": [
      "(array([ 0,  2,  4,  6,  7,  8, 10]),)\n"
     ]
    }
   ],
   "source": [
    "# Find indices of non-zero elements from [1,0,1,0,3,0,4,6,7,0,9,0,0,0]\n",
    "\n",
    "non_zero = np.array([1,0,1,0,3,0,4,6,7,0,9,0,0,0])\n",
    "print(np.nonzero(non_zero))"
   ]
  },
  {
   "cell_type": "code",
   "execution_count": 13,
   "metadata": {},
   "outputs": [
    {
     "name": "stdout",
     "output_type": "stream",
     "text": [
      "[[[0.93735306 0.0536313  0.49199918 0.59496317]\n",
      "  [0.50277269 0.71895663 0.14601311 0.8412276 ]\n",
      "  [0.26770108 0.96608135 0.16388517 0.16182858]]\n",
      "\n",
      " [[0.69207289 0.35749182 0.13414178 0.67659393]\n",
      "  [0.8181274  0.84804245 0.13179145 0.31953123]\n",
      "  [0.4136487  0.18656474 0.11813166 0.57401104]]\n",
      "\n",
      " [[0.19606099 0.76402682 0.63928486 0.16139194]\n",
      "  [0.17255524 0.3328685  0.09094356 0.90353698]\n",
      "  [0.64741795 0.96039613 0.28653818 0.75618619]]]\n"
     ]
    }
   ],
   "source": [
    "# Create a 3x3x4 array with random values\n",
    "\n",
    "R = np.random.random((3,3,4))\n",
    "print(R)"
   ]
  },
  {
   "cell_type": "code",
   "execution_count": 15,
   "metadata": {},
   "outputs": [],
   "source": [
    "# Mean Of Array R\n",
    "\n",
    "# Median Of Array R\n",
    "\n",
    "# Standard Deviation Of Array R\n",
    "\n",
    "# variance Of Array R\n",
    "mean = np.mean(R)\n",
    "median = np.median(R)\n",
    "std_dev = np.std(R)\n",
    "var = np.var(R)"
   ]
  },
  {
   "cell_type": "code",
   "execution_count": 16,
   "metadata": {},
   "outputs": [
    {
     "name": "stdout",
     "output_type": "stream",
     "text": [
      "0.47299359353703174\n",
      "0.4528239420209515\n",
      "0.2952236574030208\n",
      "0.08715700789041621\n"
     ]
    }
   ],
   "source": [
    "print(mean)\n",
    "print(median)\n",
    "print(std_dev)\n",
    "print(var)"
   ]
  },
  {
   "cell_type": "code",
   "execution_count": 19,
   "metadata": {},
   "outputs": [
    {
     "name": "stdout",
     "output_type": "stream",
     "text": [
      "[[1 2]\n",
      " [3 4]]\n",
      "[[5 6]\n",
      " [7 8]]\n"
     ]
    }
   ],
   "source": [
    "# Stacking of array\n",
    "\n",
    "X = np.arange(1,5).reshape(2,2)\n",
    "Y = np.arange(5,9).reshape(2,2)\n",
    "\n",
    "print(X)\n",
    "print(Y)"
   ]
  },
  {
   "cell_type": "code",
   "execution_count": 27,
   "metadata": {},
   "outputs": [
    {
     "name": "stdout",
     "output_type": "stream",
     "text": [
      "[[1 2 5 6]\n",
      " [3 4 7 8]]\n",
      "(2, 4)\n"
     ]
    }
   ],
   "source": [
    "# Horizontal Stacking\n",
    "\n",
    "hstack = np.hstack([X,Y])\n",
    "print(hstack)\n",
    "print(hstack.shape)"
   ]
  },
  {
   "cell_type": "code",
   "execution_count": 30,
   "metadata": {},
   "outputs": [
    {
     "name": "stdout",
     "output_type": "stream",
     "text": [
      "[[1 2]\n",
      " [3 4]\n",
      " [5 6]\n",
      " [7 8]]\n",
      "(4, 2)\n"
     ]
    }
   ],
   "source": [
    "# Vertical Stacking\n",
    "\n",
    "vstack = np.vstack([X,Y])\n",
    "print(vstack)\n",
    "print(vstack.shape)"
   ]
  },
  {
   "cell_type": "code",
   "execution_count": 34,
   "metadata": {},
   "outputs": [],
   "source": [
    "# Concatenation of array\n",
    "v_con = np.concatenate((X,Y),axis=0)\n",
    "h_con = np.concatenate((X,Y),axis=1)"
   ]
  },
  {
   "cell_type": "code",
   "execution_count": 35,
   "metadata": {},
   "outputs": [
    {
     "name": "stdout",
     "output_type": "stream",
     "text": [
      "[[1 2 5 6]\n",
      " [3 4 7 8]]\n",
      "[[1 2]\n",
      " [3 4]\n",
      " [5 6]\n",
      " [7 8]]\n"
     ]
    }
   ],
   "source": [
    "print(h_con)\n",
    "print(v_con)"
   ]
  },
  {
   "cell_type": "code",
   "execution_count": 36,
   "metadata": {},
   "outputs": [
    {
     "name": "stdout",
     "output_type": "stream",
     "text": [
      "[[[1 5]\n",
      "  [2 6]]\n",
      "\n",
      " [[3 7]\n",
      "  [4 8]]]\n",
      "(2, 2, 2)\n"
     ]
    }
   ],
   "source": [
    "# Depth Stack\n",
    "dstack = np.dstack([X,Y])\n",
    "print(dstack)\n",
    "print(dstack.shape)"
   ]
  },
  {
   "cell_type": "code",
   "execution_count": 39,
   "metadata": {},
   "outputs": [],
   "source": [
    "# Matrix Multiplication\n",
    "matrix_1 = np.matrix(range(1,10)).reshape(3,3)\n",
    "matrix_2 = np.matrix(range(11,20)).reshape(3,3)"
   ]
  },
  {
   "cell_type": "code",
   "execution_count": 41,
   "metadata": {},
   "outputs": [
    {
     "name": "stdout",
     "output_type": "stream",
     "text": [
      "[[1 2 3]\n",
      " [4 5 6]\n",
      " [7 8 9]]\n",
      "[[11 12 13]\n",
      " [14 15 16]\n",
      " [17 18 19]]\n",
      "(3, 3)\n",
      "(3, 3)\n"
     ]
    }
   ],
   "source": [
    "print(matrix_1)\n",
    "print(matrix_2)\n",
    "print(matrix_1.shape)\n",
    "print(matrix_2.shape)"
   ]
  },
  {
   "cell_type": "code",
   "execution_count": 42,
   "metadata": {},
   "outputs": [
    {
     "name": "stdout",
     "output_type": "stream",
     "text": [
      "[[ 90  96 102]\n",
      " [216 231 246]\n",
      " [342 366 390]]\n"
     ]
    }
   ],
   "source": [
    "# Matrix Multiplication\n",
    "\n",
    "matrix_mul = matrix_1*matrix_2\n",
    "print(matrix_mul)"
   ]
  },
  {
   "cell_type": "code",
   "execution_count": 43,
   "metadata": {},
   "outputs": [
    {
     "name": "stdout",
     "output_type": "stream",
     "text": [
      "[[ 90  96 102]\n",
      " [216 231 246]\n",
      " [342 366 390]]\n"
     ]
    }
   ],
   "source": [
    "print(np.matmul(matrix_1,matrix_2))"
   ]
  },
  {
   "cell_type": "code",
   "execution_count": 44,
   "metadata": {},
   "outputs": [
    {
     "name": "stdout",
     "output_type": "stream",
     "text": [
      "[[1 2 3]\n",
      " [4 5 6]\n",
      " [7 8 9]]\n"
     ]
    }
   ],
   "source": [
    "# Array Mainuplation\n",
    "\n",
    "A = np.arange(1,10).reshape(3,3)\n",
    "print(A)"
   ]
  },
  {
   "cell_type": "code",
   "execution_count": 45,
   "metadata": {},
   "outputs": [
    {
     "name": "stdout",
     "output_type": "stream",
     "text": [
      "[1 2 3 4 5 6 7 8 9]\n"
     ]
    }
   ],
   "source": [
    "rav_arr = A.ravel()\n",
    "print(rav_arr)"
   ]
  },
  {
   "cell_type": "code",
   "execution_count": 46,
   "metadata": {},
   "outputs": [
    {
     "name": "stdout",
     "output_type": "stream",
     "text": [
      "[1 2 3 4 5 6 7 8 9]\n"
     ]
    }
   ],
   "source": [
    "flat_arr = A.flatten()\n",
    "print(flat_arr)"
   ]
  },
  {
   "cell_type": "code",
   "execution_count": 47,
   "metadata": {},
   "outputs": [
    {
     "name": "stdout",
     "output_type": "stream",
     "text": [
      "[[1 4 7]\n",
      " [2 5 8]\n",
      " [3 6 9]]\n"
     ]
    }
   ],
   "source": [
    "# Transpose Of Array\n",
    "transpose = A.T\n",
    "print(transpose)"
   ]
  },
  {
   "cell_type": "code",
   "execution_count": 53,
   "metadata": {},
   "outputs": [
    {
     "name": "stdout",
     "output_type": "stream",
     "text": [
      "[[1 4 7 2 5 8 3 6 9 1 4 7]]\n"
     ]
    }
   ],
   "source": [
    "# Resizing Of The Array\n",
    "\n",
    "resize_arr = np.resize(transpose,(1,12))\n",
    "print(resize_arr)"
   ]
  },
  {
   "cell_type": "code",
   "execution_count": 54,
   "metadata": {},
   "outputs": [
    {
     "name": "stdout",
     "output_type": "stream",
     "text": [
      "1\n",
      "9\n"
     ]
    }
   ],
   "source": [
    "# print minimum and maximum of an array\n",
    "\n",
    "print(np.min(transpose))\n",
    "print(np.max(transpose))"
   ]
  },
  {
   "cell_type": "code",
   "execution_count": 58,
   "metadata": {},
   "outputs": [
    {
     "name": "stdout",
     "output_type": "stream",
     "text": [
      "[ 1.  4.  7. 10.]\n"
     ]
    }
   ],
   "source": [
    "# create an array with similar interval\n",
    "\n",
    "P = np.linspace(1,10,4)\n",
    "print(P)"
   ]
  }
 ],
 "metadata": {
  "kernelspec": {
   "display_name": "Python 3",
   "language": "python",
   "name": "python3"
  },
  "language_info": {
   "codemirror_mode": {
    "name": "ipython",
    "version": 3
   },
   "file_extension": ".py",
   "mimetype": "text/x-python",
   "name": "python",
   "nbconvert_exporter": "python",
   "pygments_lexer": "ipython3",
   "version": "3.7.1"
  }
 },
 "nbformat": 4,
 "nbformat_minor": 2
}
